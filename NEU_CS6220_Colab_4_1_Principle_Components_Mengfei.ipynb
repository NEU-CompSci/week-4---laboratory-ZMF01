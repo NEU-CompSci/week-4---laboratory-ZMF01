{
  "nbformat": 4,
  "nbformat_minor": 0,
  "metadata": {
    "colab": {
      "provenance": []
    },
    "kernelspec": {
      "name": "python3",
      "display_name": "Python 3"
    },
    "language_info": {
      "name": "python"
    }
  },
  "cells": [
    {
      "cell_type": "code",
      "source": [
        "import pandas as pd\n",
        "\n",
        "!wget https://course.ccs.neu.edu/cs6220/lecture-labs/lecture-3/abalone.csv"
      ],
      "metadata": {
        "colab": {
          "base_uri": "https://localhost:8080/"
        },
        "id": "Qz1zVnbqwJhF",
        "outputId": "78549527-2588-46e4-8ff0-b0ac0d657262"
      },
      "execution_count": null,
      "outputs": [
        {
          "output_type": "stream",
          "name": "stdout",
          "text": [
            "--2023-02-02 03:03:15--  https://course.ccs.neu.edu/cs6220/lecture-labs/lecture-3/abalone.csv\n",
            "Resolving course.ccs.neu.edu (course.ccs.neu.edu)... 129.10.117.35\n",
            "Connecting to course.ccs.neu.edu (course.ccs.neu.edu)|129.10.117.35|:443... connected.\n",
            "HTTP request sent, awaiting response... 200 OK\n",
            "Length: 191962 (187K) [text/csv]\n",
            "Saving to: ‘abalone.csv’\n",
            "\n",
            "abalone.csv         100%[===================>] 187.46K  --.-KB/s    in 0.09s   \n",
            "\n",
            "2023-02-02 03:03:15 (2.02 MB/s) - ‘abalone.csv’ saved [191962/191962]\n",
            "\n"
          ]
        }
      ]
    },
    {
      "cell_type": "markdown",
      "source": [
        "# Read in Abalone data"
      ],
      "metadata": {
        "id": "paHllXrD0paL"
      }
    },
    {
      "cell_type": "code",
      "source": [
        "df = pd.read_csv(\"abalone.csv\")"
      ],
      "metadata": {
        "id": "MDXfwqQrwNBO"
      },
      "execution_count": null,
      "outputs": []
    },
    {
      "cell_type": "code",
      "source": [
        "df.head()"
      ],
      "metadata": {
        "id": "OC8KW4BrFEY_",
        "outputId": "90fd7ad3-3eb4-4851-8c18-516e4877ed6b",
        "colab": {
          "base_uri": "https://localhost:8080/",
          "height": 204
        }
      },
      "execution_count": null,
      "outputs": [
        {
          "output_type": "execute_result",
          "data": {
            "text/plain": [
              "  Sex  Length  Diameter  Height  Whole weight  Shucked weight  Viscera weight  \\\n",
              "0   M   0.455     0.365   0.095        0.5140          0.2245          0.1010   \n",
              "1   M   0.350     0.265   0.090        0.2255          0.0995          0.0485   \n",
              "2   F   0.530     0.420   0.135        0.6770          0.2565          0.1415   \n",
              "3   M   0.440     0.365   0.125        0.5160          0.2155          0.1140   \n",
              "4   I   0.330     0.255   0.080        0.2050          0.0895          0.0395   \n",
              "\n",
              "   Shell weight  Rings  \n",
              "0         0.150     15  \n",
              "1         0.070      7  \n",
              "2         0.210      9  \n",
              "3         0.155     10  \n",
              "4         0.055      7  "
            ],
            "text/html": [
              "\n",
              "  <div id=\"df-5b7176f6-5716-45f4-8367-bce929e348b2\">\n",
              "    <div class=\"colab-df-container\">\n",
              "      <div>\n",
              "<style scoped>\n",
              "    .dataframe tbody tr th:only-of-type {\n",
              "        vertical-align: middle;\n",
              "    }\n",
              "\n",
              "    .dataframe tbody tr th {\n",
              "        vertical-align: top;\n",
              "    }\n",
              "\n",
              "    .dataframe thead th {\n",
              "        text-align: right;\n",
              "    }\n",
              "</style>\n",
              "<table border=\"1\" class=\"dataframe\">\n",
              "  <thead>\n",
              "    <tr style=\"text-align: right;\">\n",
              "      <th></th>\n",
              "      <th>Sex</th>\n",
              "      <th>Length</th>\n",
              "      <th>Diameter</th>\n",
              "      <th>Height</th>\n",
              "      <th>Whole weight</th>\n",
              "      <th>Shucked weight</th>\n",
              "      <th>Viscera weight</th>\n",
              "      <th>Shell weight</th>\n",
              "      <th>Rings</th>\n",
              "    </tr>\n",
              "  </thead>\n",
              "  <tbody>\n",
              "    <tr>\n",
              "      <th>0</th>\n",
              "      <td>M</td>\n",
              "      <td>0.455</td>\n",
              "      <td>0.365</td>\n",
              "      <td>0.095</td>\n",
              "      <td>0.5140</td>\n",
              "      <td>0.2245</td>\n",
              "      <td>0.1010</td>\n",
              "      <td>0.150</td>\n",
              "      <td>15</td>\n",
              "    </tr>\n",
              "    <tr>\n",
              "      <th>1</th>\n",
              "      <td>M</td>\n",
              "      <td>0.350</td>\n",
              "      <td>0.265</td>\n",
              "      <td>0.090</td>\n",
              "      <td>0.2255</td>\n",
              "      <td>0.0995</td>\n",
              "      <td>0.0485</td>\n",
              "      <td>0.070</td>\n",
              "      <td>7</td>\n",
              "    </tr>\n",
              "    <tr>\n",
              "      <th>2</th>\n",
              "      <td>F</td>\n",
              "      <td>0.530</td>\n",
              "      <td>0.420</td>\n",
              "      <td>0.135</td>\n",
              "      <td>0.6770</td>\n",
              "      <td>0.2565</td>\n",
              "      <td>0.1415</td>\n",
              "      <td>0.210</td>\n",
              "      <td>9</td>\n",
              "    </tr>\n",
              "    <tr>\n",
              "      <th>3</th>\n",
              "      <td>M</td>\n",
              "      <td>0.440</td>\n",
              "      <td>0.365</td>\n",
              "      <td>0.125</td>\n",
              "      <td>0.5160</td>\n",
              "      <td>0.2155</td>\n",
              "      <td>0.1140</td>\n",
              "      <td>0.155</td>\n",
              "      <td>10</td>\n",
              "    </tr>\n",
              "    <tr>\n",
              "      <th>4</th>\n",
              "      <td>I</td>\n",
              "      <td>0.330</td>\n",
              "      <td>0.255</td>\n",
              "      <td>0.080</td>\n",
              "      <td>0.2050</td>\n",
              "      <td>0.0895</td>\n",
              "      <td>0.0395</td>\n",
              "      <td>0.055</td>\n",
              "      <td>7</td>\n",
              "    </tr>\n",
              "  </tbody>\n",
              "</table>\n",
              "</div>\n",
              "      <button class=\"colab-df-convert\" onclick=\"convertToInteractive('df-5b7176f6-5716-45f4-8367-bce929e348b2')\"\n",
              "              title=\"Convert this dataframe to an interactive table.\"\n",
              "              style=\"display:none;\">\n",
              "        \n",
              "  <svg xmlns=\"http://www.w3.org/2000/svg\" height=\"24px\"viewBox=\"0 0 24 24\"\n",
              "       width=\"24px\">\n",
              "    <path d=\"M0 0h24v24H0V0z\" fill=\"none\"/>\n",
              "    <path d=\"M18.56 5.44l.94 2.06.94-2.06 2.06-.94-2.06-.94-.94-2.06-.94 2.06-2.06.94zm-11 1L8.5 8.5l.94-2.06 2.06-.94-2.06-.94L8.5 2.5l-.94 2.06-2.06.94zm10 10l.94 2.06.94-2.06 2.06-.94-2.06-.94-.94-2.06-.94 2.06-2.06.94z\"/><path d=\"M17.41 7.96l-1.37-1.37c-.4-.4-.92-.59-1.43-.59-.52 0-1.04.2-1.43.59L10.3 9.45l-7.72 7.72c-.78.78-.78 2.05 0 2.83L4 21.41c.39.39.9.59 1.41.59.51 0 1.02-.2 1.41-.59l7.78-7.78 2.81-2.81c.8-.78.8-2.07 0-2.86zM5.41 20L4 18.59l7.72-7.72 1.47 1.35L5.41 20z\"/>\n",
              "  </svg>\n",
              "      </button>\n",
              "      \n",
              "  <style>\n",
              "    .colab-df-container {\n",
              "      display:flex;\n",
              "      flex-wrap:wrap;\n",
              "      gap: 12px;\n",
              "    }\n",
              "\n",
              "    .colab-df-convert {\n",
              "      background-color: #E8F0FE;\n",
              "      border: none;\n",
              "      border-radius: 50%;\n",
              "      cursor: pointer;\n",
              "      display: none;\n",
              "      fill: #1967D2;\n",
              "      height: 32px;\n",
              "      padding: 0 0 0 0;\n",
              "      width: 32px;\n",
              "    }\n",
              "\n",
              "    .colab-df-convert:hover {\n",
              "      background-color: #E2EBFA;\n",
              "      box-shadow: 0px 1px 2px rgba(60, 64, 67, 0.3), 0px 1px 3px 1px rgba(60, 64, 67, 0.15);\n",
              "      fill: #174EA6;\n",
              "    }\n",
              "\n",
              "    [theme=dark] .colab-df-convert {\n",
              "      background-color: #3B4455;\n",
              "      fill: #D2E3FC;\n",
              "    }\n",
              "\n",
              "    [theme=dark] .colab-df-convert:hover {\n",
              "      background-color: #434B5C;\n",
              "      box-shadow: 0px 1px 3px 1px rgba(0, 0, 0, 0.15);\n",
              "      filter: drop-shadow(0px 1px 2px rgba(0, 0, 0, 0.3));\n",
              "      fill: #FFFFFF;\n",
              "    }\n",
              "  </style>\n",
              "\n",
              "      <script>\n",
              "        const buttonEl =\n",
              "          document.querySelector('#df-5b7176f6-5716-45f4-8367-bce929e348b2 button.colab-df-convert');\n",
              "        buttonEl.style.display =\n",
              "          google.colab.kernel.accessAllowed ? 'block' : 'none';\n",
              "\n",
              "        async function convertToInteractive(key) {\n",
              "          const element = document.querySelector('#df-5b7176f6-5716-45f4-8367-bce929e348b2');\n",
              "          const dataTable =\n",
              "            await google.colab.kernel.invokeFunction('convertToInteractive',\n",
              "                                                     [key], {});\n",
              "          if (!dataTable) return;\n",
              "\n",
              "          const docLinkHtml = 'Like what you see? Visit the ' +\n",
              "            '<a target=\"_blank\" href=https://colab.research.google.com/notebooks/data_table.ipynb>data table notebook</a>'\n",
              "            + ' to learn more about interactive tables.';\n",
              "          element.innerHTML = '';\n",
              "          dataTable['output_type'] = 'display_data';\n",
              "          await google.colab.output.renderOutput(dataTable, element);\n",
              "          const docLink = document.createElement('div');\n",
              "          docLink.innerHTML = docLinkHtml;\n",
              "          element.appendChild(docLink);\n",
              "        }\n",
              "      </script>\n",
              "    </div>\n",
              "  </div>\n",
              "  "
            ]
          },
          "metadata": {},
          "execution_count": 5
        }
      ]
    },
    {
      "cell_type": "code",
      "source": [],
      "metadata": {
        "id": "t_U3PysfKGDl"
      },
      "execution_count": null,
      "outputs": []
    },
    {
      "cell_type": "markdown",
      "source": [
        "# Explore the data\n",
        "\n",
        "In this lab, you're going to drop features and scatter the points after projecting along 2 principle components axes.\n",
        "\n",
        "For example, you may drop columns in `Pandas` by typing \n",
        "\n",
        "\n",
        "1. Prune the data. Drop columns `Sex` and/or `Rings`. \\\n",
        "   ```matrix = df.loc[:, df.columns != \"Sex\"]```\n",
        "\n",
        "1. Calculate the covariance matrix. You can calculate the covariance matrix via: \\\n",
        "   $$Cov(X_i, X_j) = \\mathbb{E}[(X_i - \\mu_{x_i})(X_j - \\mu_{x_j})^T]$$\n",
        "\n",
        "1. Calculate the first two components of PCA. You can feel free to use `np.linalg.eig`.\n",
        "\n",
        "1. Verify the principle components. To calculate PCA, feel free to use the PCA function from `scikit.learn`. \\\n",
        "\n",
        "  ```\n",
        "  from sklearn.decomposition import PCA\n",
        "  # Two components of PCA\n",
        "  pca = PCA(2)\n",
        "\n",
        "  # Fit on data\n",
        "  pca.fit(A)\n",
        "\n",
        "  # Access values and vectors\n",
        "  print(pca.components_)\n",
        "  print(pca.explained_variance_)\n",
        "\n",
        "  # transform data\n",
        "  B = pca.transform(A)\n",
        "  print(B)\n",
        "  ```\n",
        "\n",
        "1. Scatter the data to view it in two dimensions"
      ],
      "metadata": {
        "id": "XRByH8x90udO"
      }
    },
    {
      "cell_type": "code",
      "source": [
        "data=df.loc[:,df.columns!=\"Sex\"].to_numpy()\n",
        "data"
      ],
      "metadata": {
        "id": "4Aywks-DKVWf",
        "outputId": "724b4831-6ab0-4aaa-9073-13f59108e751",
        "colab": {
          "base_uri": "https://localhost:8080/"
        }
      },
      "execution_count": null,
      "outputs": [
        {
          "output_type": "execute_result",
          "data": {
            "text/plain": [
              "array([[ 0.455 ,  0.365 ,  0.095 , ...,  0.101 ,  0.15  , 15.    ],\n",
              "       [ 0.35  ,  0.265 ,  0.09  , ...,  0.0485,  0.07  ,  7.    ],\n",
              "       [ 0.53  ,  0.42  ,  0.135 , ...,  0.1415,  0.21  ,  9.    ],\n",
              "       ...,\n",
              "       [ 0.6   ,  0.475 ,  0.205 , ...,  0.2875,  0.308 ,  9.    ],\n",
              "       [ 0.625 ,  0.485 ,  0.15  , ...,  0.261 ,  0.296 , 10.    ],\n",
              "       [ 0.71  ,  0.555 ,  0.195 , ...,  0.3765,  0.495 , 12.    ]])"
            ]
          },
          "metadata": {},
          "execution_count": 30
        }
      ]
    },
    {
      "cell_type": "code",
      "source": [
        "data.shape"
      ],
      "metadata": {
        "id": "IoWDM-pjKcMO",
        "outputId": "355cffa1-0440-4951-fdca-70a608e6477a",
        "colab": {
          "base_uri": "https://localhost:8080/"
        }
      },
      "execution_count": null,
      "outputs": [
        {
          "output_type": "execute_result",
          "data": {
            "text/plain": [
              "(4177, 8)"
            ]
          },
          "metadata": {},
          "execution_count": 31
        }
      ]
    },
    {
      "cell_type": "code",
      "source": [
        "cov = np.cov(data.T)\n",
        "cov.shape\n"
      ],
      "metadata": {
        "id": "yrQT-etUKfv2",
        "outputId": "c08c4ead-f609-4309-c8b0-3571be974ee7",
        "colab": {
          "base_uri": "https://localhost:8080/"
        }
      },
      "execution_count": null,
      "outputs": [
        {
          "output_type": "execute_result",
          "data": {
            "text/plain": [
              "(8, 8)"
            ]
          },
          "metadata": {},
          "execution_count": 32
        }
      ]
    },
    {
      "cell_type": "code",
      "source": [],
      "metadata": {
        "id": "QZTrzlFcMDcB"
      },
      "execution_count": null,
      "outputs": []
    },
    {
      "cell_type": "code",
      "source": [
        "matrix = df.loc[:, df.columns != \"Sex\"]"
      ],
      "metadata": {
        "id": "GRi456zu2QCr"
      },
      "execution_count": null,
      "outputs": []
    },
    {
      "cell_type": "code",
      "source": [
        "\n",
        "cov_matrix = pd.DataFrame.cov(df)\n",
        "print(cov_matrix)"
      ],
      "metadata": {
        "id": "pFLFBxxxFrid",
        "outputId": "02f30267-34ff-4e61-875c-cf11b688d5d2",
        "colab": {
          "base_uri": "https://localhost:8080/"
        }
      },
      "execution_count": null,
      "outputs": [
        {
          "output_type": "stream",
          "name": "stdout",
          "text": [
            "                  Length  Diameter    Height  Whole weight  Shucked weight  \\\n",
            "Length          0.014422  0.011761  0.004157      0.054491        0.023935   \n",
            "Diameter        0.011761  0.009849  0.003461      0.045038        0.019674   \n",
            "Height          0.004157  0.003461  0.001750      0.016803        0.007195   \n",
            "Whole weight    0.054491  0.045038  0.016803      0.240481        0.105518   \n",
            "Shucked weight  0.023935  0.019674  0.007195      0.105518        0.049268   \n",
            "Viscera weight  0.011887  0.009787  0.003660      0.051946        0.022675   \n",
            "Shell weight    0.015007  0.012507  0.004759      0.065216        0.027271   \n",
            "Rings           0.215562  0.183872  0.075179      0.854409        0.301204   \n",
            "\n",
            "                Viscera weight  Shell weight      Rings  \n",
            "Length                0.011887      0.015007   0.215562  \n",
            "Diameter              0.009787      0.012507   0.183872  \n",
            "Height                0.003660      0.004759   0.075179  \n",
            "Whole weight          0.051946      0.065216   0.854409  \n",
            "Shucked weight        0.022675      0.027271   0.301204  \n",
            "Viscera weight        0.012015      0.013850   0.178057  \n",
            "Shell weight          0.013850      0.019377   0.281663  \n",
            "Rings                 0.178057      0.281663  10.395266  \n"
          ]
        }
      ]
    },
    {
      "cell_type": "code",
      "source": [
        "import numpy as np\n",
        "eig_values, eig_vectors = np.linalg.eig(cov_matrix)"
      ],
      "metadata": {
        "id": "TjFSUyHAG_A6"
      },
      "execution_count": null,
      "outputs": []
    },
    {
      "cell_type": "code",
      "source": [
        "print(\"eig_vectors\", eig_vectors)\n",
        "print(\"eig_valuess\", eig_values)"
      ],
      "metadata": {
        "id": "pNfff1wxHNCk",
        "outputId": "fe9486b4-6069-4bed-8ffe-5e522b80296d",
        "colab": {
          "base_uri": "https://localhost:8080/"
        }
      },
      "execution_count": null,
      "outputs": [
        {
          "output_type": "stream",
          "name": "stdout",
          "text": [
            "eig_vectors [[-2.10513202e-02  1.83052752e-01 -7.42040211e-01  9.06887398e-02\n",
            "   3.07007218e-02 -6.18893826e-01  1.52311416e-01 -5.43508715e-03]\n",
            " [-1.79401219e-02  1.48804192e-01 -5.96175335e-01  4.20854302e-02\n",
            "  -2.33409653e-02  7.83141972e-01  7.49734266e-02 -2.93613363e-02]\n",
            " [-7.31629638e-03  5.24595599e-02 -1.40358287e-01 -3.71173260e-02\n",
            "  -1.45782231e-03 -4.21715859e-02 -9.10437257e-01 -3.81365645e-01]\n",
            " [-8.36804920e-02  8.34461310e-01  2.28847916e-01 -2.20616051e-01\n",
            "   1.25570884e-01 -2.50039224e-03  1.82698066e-01 -3.82722100e-01]\n",
            " [-2.97346596e-02  3.99951598e-01  1.36354791e-01  7.54544047e-01\n",
            "  -3.31709499e-01  5.43703582e-03 -1.68819392e-01  3.35655300e-01]\n",
            " [-1.74599170e-02  1.83252786e-01 -7.74498237e-03 -7.33235758e-02\n",
            "   7.56051666e-01  2.91035964e-02 -2.30202123e-01  5.78984522e-01]\n",
            " [-2.74311519e-02  2.05272453e-01 -5.65032111e-02 -6.04242412e-01\n",
            "  -5.48722324e-01 -3.15866047e-02 -1.65567109e-01  5.09217906e-01]\n",
            " [-9.95106815e-01 -9.79370973e-02  5.85253004e-03  1.15443528e-02\n",
            "   9.94904944e-04 -3.08222505e-04  4.04147122e-04  1.40655044e-03]]\n",
            "eig_valuess [1.04954314e+01 2.39268823e-01 3.02087647e-03 2.60218996e-03\n",
            " 1.05068657e-03 1.47688518e-04 4.88782005e-04 4.17493194e-04]\n"
          ]
        }
      ]
    },
    {
      "cell_type": "code",
      "source": [
        "from sklearn.decomposition import PCA\n",
        "# Two components of PCA\n",
        "pca = PCA(2)\n",
        "\n",
        "# Fit on data\n",
        "pca.fit(matrix)\n",
        "\n",
        "# Access values and vectors\n",
        "print(pca.components_)\n",
        "print(pca.explained_variance_)\n",
        "\n",
        "# transform data\n",
        "B = pca.transform(matrix)\n",
        "print(B)"
      ],
      "metadata": {
        "id": "h71VT4nDHUEB",
        "outputId": "84eb0956-d784-4193-d717-378a1e84cd0f",
        "colab": {
          "base_uri": "https://localhost:8080/"
        }
      },
      "execution_count": null,
      "outputs": [
        {
          "output_type": "stream",
          "name": "stdout",
          "text": [
            "[[ 0.02105132  0.01794012  0.0073163   0.08368049  0.02973466  0.01745992\n",
            "   0.02743115  0.99510682]\n",
            " [ 0.18305275  0.14880419  0.05245956  0.83446131  0.3999516   0.18325279\n",
            "   0.20527245 -0.0979371 ]]\n",
            "[10.49543138  0.23926882]\n",
            "[[ 5.00480331 -0.86692655]\n",
            " [-2.99106199 -0.43457164]\n",
            " [-0.94603495 -0.08673867]\n",
            " ...\n",
            " [-0.88806992  0.5087862 ]\n",
            " [ 0.0998919   0.34089986]\n",
            " [ 2.18474351  1.11378693]]\n"
          ]
        }
      ]
    },
    {
      "cell_type": "code",
      "source": [
        "from sklearn.decomposition import PCA\n",
        "# Two components of PCA\n",
        "pca = PCA(2)\n",
        "\n",
        "# Fit on data\n",
        "pca.fit(cov_matrix)\n",
        "\n",
        "# Access values and vectors\n",
        "print(pca.components_)\n",
        "print(pca.explained_variance_)\n",
        "\n",
        "# transform data\n",
        "B = pca.transform(cov_matrix)\n",
        "print(B)"
      ],
      "metadata": {
        "id": "e4wkXddZJbnb",
        "outputId": "305f8849-9e4d-4f45-c7a2-00e4b9008a21",
        "colab": {
          "base_uri": "https://localhost:8080/"
        }
      },
      "execution_count": null,
      "outputs": [
        {
          "output_type": "stream",
          "name": "stdout",
          "text": [
            "[[ 0.01954924  0.01671871  0.00688318  0.07705125  0.02655607  0.01599492\n",
            "   0.02578776  0.99585539]\n",
            " [ 0.17628835  0.14325778  0.05012205  0.83775272  0.40120045  0.18252174\n",
            "   0.204184   -0.08994826]]\n",
            "[1.29058996e+01 3.63417007e-03]\n",
            "[[-1.35285698 -0.02409313]\n",
            " [-1.38544404 -0.03254284]\n",
            " [-1.49675853 -0.05646818]\n",
            " [-0.69679838  0.13701723]\n",
            " [-1.2621375   0.0285512 ]\n",
            " [-1.39054936 -0.02432441]\n",
            " [-1.28594222 -0.01822479]\n",
            " [ 8.87048701 -0.00991507]]\n"
          ]
        }
      ]
    }
  ]
}